{
 "cells": [
  {
   "cell_type": "code",
   "execution_count": 2,
   "id": "7d8910a5-390b-465e-82be-2fd2d35359b8",
   "metadata": {},
   "outputs": [],
   "source": [
    "import findspark\n",
    "findspark.init()"
   ]
  },
  {
   "cell_type": "code",
   "execution_count": 3,
   "id": "f5d52f27-068f-4f63-a755-61833997e80c",
   "metadata": {},
   "outputs": [],
   "source": [
    "from pyspark.sql import SparkSession"
   ]
  },
  {
   "cell_type": "code",
   "execution_count": 4,
   "id": "92597130-cfe2-4b0c-ba9d-f704b339b5b5",
   "metadata": {},
   "outputs": [],
   "source": [
    "spark=SparkSession.builder.config(\"spark-driver.host\", \"localhost\").config(\"spark.driver.memory\",\"4g\") \\\n",
    ".config(\"spark.executor.memory\",\"4g\").appName(\"mr\").getOrCreate()"
   ]
  },
  {
   "cell_type": "code",
   "execution_count": 5,
   "id": "8ec5f6ec-c004-4b11-b933-85bc9605b0a2",
   "metadata": {},
   "outputs": [
    {
     "data": {
      "text/html": [
       "\n",
       "            <div>\n",
       "                <p><b>SparkSession - in-memory</b></p>\n",
       "                \n",
       "        <div>\n",
       "            <p><b>SparkContext</b></p>\n",
       "\n",
       "            <p><a href=\"http://10.250.99.194:4046\">Spark UI</a></p>\n",
       "\n",
       "            <dl>\n",
       "              <dt>Version</dt>\n",
       "                <dd><code>v3.5.3</code></dd>\n",
       "              <dt>Master</dt>\n",
       "                <dd><code>local[*]</code></dd>\n",
       "              <dt>AppName</dt>\n",
       "                <dd><code>mr</code></dd>\n",
       "            </dl>\n",
       "        </div>\n",
       "        \n",
       "            </div>\n",
       "        "
      ],
      "text/plain": [
       "<pyspark.sql.session.SparkSession at 0x2c995942290>"
      ]
     },
     "execution_count": 5,
     "metadata": {},
     "output_type": "execute_result"
    }
   ],
   "source": [
    "spark"
   ]
  },
  {
   "cell_type": "code",
   "execution_count": 6,
   "id": "edcf21e3-22c4-4b9e-9cd1-ca815ad4a714",
   "metadata": {},
   "outputs": [],
   "source": [
    "#import all required libraries\n",
    "\n",
    "from pyspark.sql import SparkSession\n",
    "from pyspark.sql.functions import col\n",
    "from pyspark.ml.recommendation import ALS\n",
    "from pyspark.ml.evaluation import RegressionEvaluator\n",
    "from pyspark.ml.feature import StringIndexer\n",
    "from pyspark.ml import Pipeline\n"
   ]
  },
  {
   "cell_type": "code",
   "execution_count": 7,
   "id": "d321069f-1ec2-4feb-bda0-98e2ad7d0652",
   "metadata": {},
   "outputs": [
    {
     "name": "stdout",
     "output_type": "stream",
     "text": [
      "+----------+--------------+------------+--------------------+\n",
      "|        Id|       User_id|review/score|               Title|\n",
      "+----------+--------------+------------+--------------------+\n",
      "|1592290574|A30FYZFN4GBJ67|         4.0|The ABAP Quick Re...|\n",
      "|0802130240| AOF9G8IWSFIMS|         4.0|Manson in His Own...|\n",
      "|1421810182| A5FR5OUCWS9VS|         2.0|             Herland|\n",
      "|1421810182|A3UM8L4OJHXUAV|         3.0|             Herland|\n",
      "|0072936533|A1AU5BSZ11ZV10|         4.0|The Gregg Referen...|\n",
      "+----------+--------------+------------+--------------------+\n",
      "only showing top 5 rows\n",
      "\n"
     ]
    }
   ],
   "source": [
    "# Initialize Spark session\n",
    "spark = SparkSession.builder \\\n",
    "    .appName(\"Connect to HDFS\") \\\n",
    "    .config(\"spark.hadoop.fs.defaultFS\", \"hdfs://10.0.2.15:9000\") \\\n",
    "    .getOrCreate()\n",
    "\n",
    "# Test HDFS access by listing files\n",
    "hdfs_path = \"hdfs:10.0.2.15:9000/user/Group04/Books.csv\"\n",
    "df = spark.read.csv(hdfs_path, header=True, inferSchema=True)\n",
    "df.show(5)\n",
    "\n",
    "column = ['Id','User_id','review/score','Title']\n",
    "df = df.select([col for col in column]).toDF(*column)\n",
    "df = df.withColumn(\"review/score\", df[\"review/score\"].cast(\"float\"))\n",
    "df = df.na.drop(\"any\")\n",
    "df = df.dropDuplicates(subset=column)\n",
    "df.show(5)\n"
   ]
  },
  {
   "cell_type": "code",
   "execution_count": 8,
   "id": "b8d654c5-a8d3-4b0d-8e36-864932d1e0d4",
   "metadata": {},
   "outputs": [],
   "source": [
    "Id_limit = 200\n",
    "User_id_limit = 10\n",
    "\n",
    "Id_counts = df.groupBy(\"Id\").count().filter(f\"count >= {Id_limit}\")\n",
    "User_id_counts = df.groupBy(\"User_id\").count().filter(f\"count >= {User_id_limit}\")"
   ]
  },
  {
   "cell_type": "code",
   "execution_count": 9,
   "id": "60e95d98-74bc-46b2-939d-fe4591a5e4aa",
   "metadata": {},
   "outputs": [],
   "source": [
    "filtered_df = df.join(Id_counts, on=\"Id\", how=\"inner\") \\\n",
    "                .join(User_id_counts, on=\"User_id\", how=\"inner\") \\\n",
    "                .drop(\"count\")\n",
    "string_indexer_id = StringIndexer(inputCol=\"Id\", outputCol=\"IdIndex\")\n",
    "string_indexer_user = StringIndexer(inputCol=\"User_id\", outputCol=\"UserIndex\")\n",
    "\n",
    "\n",
    "pipeline = Pipeline(stages=[string_indexer_id, string_indexer_user])\n",
    "new_df = pipeline.fit(filtered_df).transform(filtered_df)"
   ]
  },
  {
   "cell_type": "code",
   "execution_count": 10,
   "id": "ef16eeee-0630-4981-9eb4-b873f396122a",
   "metadata": {},
   "outputs": [],
   "source": [
    "(train_data, test_data) = new_df.randomSplit([0.8, 0.2], seed=42)"
   ]
  },
  {
   "cell_type": "code",
   "execution_count": 11,
   "id": "f9957bc5-e333-4ce5-ac24-0ea7d47ee1da",
   "metadata": {},
   "outputs": [],
   "source": [
    "#ALS Model\n",
    "\n",
    "als = ALS(maxIter=5, regParam=0.01, userCol=\"UserIndex\", itemCol=\"IdIndex\", ratingCol=\"review/score\",coldStartStrategy=\"drop\")\n",
    "model = als.fit(train_data)\n",
    "\n"
   ]
  },
  {
   "cell_type": "code",
   "execution_count": 12,
   "id": "0b6e3796-647a-4c77-b3de-3b523a8aa159",
   "metadata": {},
   "outputs": [
    {
     "name": "stdout",
     "output_type": "stream",
     "text": [
      "Root Mean Squared Error (RMSE): 2.8932583764149697\n"
     ]
    }
   ],
   "source": [
    "#predictions\n",
    "\n",
    "predictions = model.transform(test_data)\n",
    "evaluator = RegressionEvaluator(metricName=\"rmse\", labelCol=\"review/score\", predictionCol=\"prediction\")\n",
    "rmse = evaluator.evaluate(predictions)\n",
    "print(f\"Root Mean Squared Error (RMSE): {rmse}\")"
   ]
  },
  {
   "cell_type": "code",
   "execution_count": 13,
   "id": "871119e2-e6ca-4cbd-a9dd-10cecb1481c7",
   "metadata": {},
   "outputs": [
    {
     "name": "stdout",
     "output_type": "stream",
     "text": [
      "User: A14OJS0VWMOSWO\n",
      "Relevant Items:\n",
      "1. Stones from the River\n",
      "2. The Inheritance of Loss: A Novel (Man Booker Prize)\n",
      "3. How To Cook Everything: Simple Recipes for Great Food\n",
      "4. Jane Eyre (New Windmill)\n",
      "--------\n",
      "User: A1T17LMQABMBN5\n",
      "Relevant Items:\n",
      "1. Stones from the River\n",
      "2. The Inheritance of Loss: A Novel (Man Booker Prize)\n",
      "3. The Duke and I (Bridgerton Series, Book 1)\n",
      "4. I Feel Bad About My Neck: And Other Thoughts on Being a Woman\n",
      "--------\n",
      "User: A1EKTLUL24HDG8\n",
      "Relevant Items:\n",
      "1. Great Expectations\n",
      "2. The Awakening\n",
      "3. Narrative of the Life of Frederick Douglass\n",
      "4. The Awakening\n",
      "--------\n"
     ]
    }
   ],
   "source": [
    "#give user recommendations\n",
    "user_recommend = model.recommendForAllUsers(4)\n",
    "\n",
    "book_id_to_title = dict(new_df.select(\"IdIndex\", \"Title\").rdd.map(lambda r: (r.IdIndex, r.Title)).collect())\n",
    "user_index_to_id = dict(new_df.select(\"UserIndex\", \"User_id\").rdd.map(lambda r: (r.UserIndex, r.User_id)).collect())\n",
    "\n",
    "#print the output\n",
    "count = 0\n",
    "for user_recommend in user_recommend.select(\"UserIndex\", \"recommendations\").collect():\n",
    "    if count == 3: break\n",
    "    else:\n",
    "        user_id_index =user_recommend.UserIndex\n",
    "        User_id = user_index_to_id[user_id_index]\n",
    "        recommended_items = user_recommend.recommendations\n",
    "\n",
    "        print(f\"User: {User_id}\")\n",
    "        print(\"Relevant Items:\")\n",
    "        for i, rec in enumerate(recommended_items):\n",
    "            Id= rec.IdIndex\n",
    "            Title = book_id_to_title[Id]\n",
    "            print(f\"{i+1}. {Title}\")\n",
    "        print(\"--------\")\n",
    "    count+=1"
   ]
  },
  {
   "cell_type": "code",
   "execution_count": 14,
   "id": "5ce7f9c2-ece7-4a28-922f-365083222954",
   "metadata": {},
   "outputs": [
    {
     "name": "stdout",
     "output_type": "stream",
     "text": [
      "+--------------+-------------------------------------------------------------------------------------------------------------------------------------------------------------------------------------------------------------------------------------------------------------------------------------------------------+\n",
      "|user_id       |titles                                                                                                                                                                                                                                                                                                 |\n",
      "+--------------+-------------------------------------------------------------------------------------------------------------------------------------------------------------------------------------------------------------------------------------------------------------------------------------------------------+\n",
      "|A14OJS0VWMOSWO|[Stones from the River, The Inheritance of Loss: A Novel (Man Booker Prize), How To Cook Everything: Simple Recipes for Great Food, Jane Eyre (New Windmill)]                                                                                                                                          |\n",
      "|A1T17LMQABMBN5|[Stones from the River, The Inheritance of Loss: A Novel (Man Booker Prize), The Duke and I (Bridgerton Series, Book 1), I Feel Bad About My Neck: And Other Thoughts on Being a Woman]                                                                                                                |\n",
      "|A1EKTLUL24HDG8|[Great Expectations, The Awakening, Narrative of the Life of Frederick Douglass, The Awakening]                                                                                                                                                                                                        |\n",
      "|A17FLA8HQOFVIG|[How To Cook Everything: Simple Recipes for Great Food, Stones from the River, The Awakening, Great Expectations]                                                                                                                                                                                      |\n",
      "|A22RY8N8CNDF3A|[The Female Brain, I Feel Bad About My Neck: And Other Thoughts on Being a Woman, Naked Economics: Undressing the Dismal Science, The Awakening]                                                                                                                                                       |\n",
      "|AFVQZQ8PW0L   |[Gods and Kings (Chronicles of the Kings #1), Stones from the River, Nights In Rodanthe (Turtleback School & Library Binding Edition), True Believer (Large Print)]                                                                                                                                    |\n",
      "|AHD101501WCN1 |[The Awakening, The Awakening, Jane Eyre (New Windmill), Great Expectations]                                                                                                                                                                                                                           |\n",
      "|A1D2C0WDCSHUWZ|[The Female Brain, Jane Eyre (New Windmill), The Awakening, Sloppy Firsts (Jessica Darling, Book 1)]                                                                                                                                                                                                   |\n",
      "|A1G37DFO8MQW0M|[Why Men Love Bitches: From Doormat to Dreamgirl - A Woman's Guide to Holding Her Own in a Relationship, STOLEN LIVES, Great Expectations, Jane Eyre (New Windmill)]                                                                                                                                   |\n",
      "|A1K1JW1C5CUSUZ|[Great Expectations, The Inheritance of Loss: A Novel (Man Booker Prize), Great Expectations, How To Cook Everything: Simple Recipes for Great Food]                                                                                                                                                   |\n",
      "|A281NPSIMI1C2R|[Why Men Love Bitches: From Doormat to Dreamgirl - A Woman's Guide to Holding Her Own in a Relationship, 23 Minutes In Hell: One Man's Story About What He Saw, Heard, and Felt in that Place of Torment, For Women Only: What You Need to Know about the Inner Lives of Men, 1632 (The Assiti Shards)]|\n",
      "|A2F3SXHT6RBV81|[The Killer Angels (Turtleback School & Library Binding Edition), Eldest (Inheritance, Book 2), Why Men Love Bitches: From Doormat to Dreamgirl - A Woman's Guide to Holding Her Own in a Relationship, True Believer (Large Print)]                                                                   |\n",
      "|A2F540P3L6P5CL|[The Awakening, The Awakening, The Female Brain, How To Cook Everything: Simple Recipes for Great Food]                                                                                                                                                                                                |\n",
      "|A2F6N60Z96CAJI|[The Female Brain, Stones from the River, The Duke and I (Bridgerton Series, Book 1), The Awakening]                                                                                                                                                                                                   |\n",
      "|A2ODBHT4URXVXQ|[The Duke and I (Bridgerton Series, Book 1), Stones from the River, Nights In Rodanthe (Turtleback School & Library Binding Edition), I Feel Bad About My Neck: And Other Thoughts on Being a Woman]                                                                                                   |\n",
      "|A3EOHYIHQM3KK |[Plainsong, Incidents in the Life of a Slave Girl, by Harriet A. Jacobs: A True Tale of Slavery, by John S. Jacobs, Great Expectations, Jane Eyre (New Windmill)]                                                                                                                                      |\n",
      "|A3M174IC0VXOS2|[The Inheritance of Loss: A Novel (Man Booker Prize), Morrigan's Cross (The Circle Trilogy, Book 1), Jane Eyre (New Windmill), Lord Of Chaos (Turtleback School & Library Binding Edition) (Wheel of Time (Pb))]                                                                                       |\n",
      "|A3SN9EF7GTNEU2|[Narrative of the Life of Frederick Douglass, Plainsong, 1632 (The Assiti Shards), Sloppy Firsts (Jessica Darling, Book 1)]                                                                                                                                                                            |\n",
      "|ABTUNH7645QJL |[Great Expectations, Jane Eyre (New Windmill), Great Expectations, The Inheritance of Loss: A Novel (Man Booker Prize)]                                                                                                                                                                                |\n",
      "|AC1K4OQOZ90RS |[The Duke and I (Bridgerton Series, Book 1), Stones from the River, How To Cook Everything: Simple Recipes for Great Food, The Awakening]                                                                                                                                                              |\n",
      "+--------------+-------------------------------------------------------------------------------------------------------------------------------------------------------------------------------------------------------------------------------------------------------------------------------------------------------+\n",
      "only showing top 20 rows\n",
      "\n"
     ]
    }
   ],
   "source": [
    "# Original DataFrame from recommendForAllUsers\n",
    "recommendations_df = model.recommendForAllUsers(4)\n",
    "\n",
    "# Convert recommendations to a list of dictionaries for new DataFrame creation\n",
    "recommendations_data = []\n",
    "\n",
    "for row in recommendations_df.select(\"UserIndex\", \"recommendations\").collect():\n",
    "    user_id_index = row.UserIndex\n",
    "    User_id = user_index_to_id[user_id_index]\n",
    "    recommended_items = row.recommendations\n",
    "\n",
    "    # Extract titles\n",
    "    titles = [book_id_to_title[rec.IdIndex] for rec in recommended_items]\n",
    "    recommendations_data.append({\"user_id\": User_id, \"titles\": titles})\n",
    "\n",
    "# Define schema for the new DataFrame\n",
    "from pyspark.sql import SparkSession\n",
    "from pyspark.sql.types import StructType, StructField, StringType, ArrayType\n",
    "\n",
    "schema = StructType([\n",
    "    StructField(\"user_id\", StringType(), True),\n",
    "    StructField(\"titles\", ArrayType(StringType()), True)\n",
    "])\n",
    "\n",
    "# Create the new DataFrame\n",
    "spark = SparkSession.builder.getOrCreate()\n",
    "result_df = spark.createDataFrame(recommendations_data, schema)\n",
    "\n",
    "# Show the resulting DataFrame\n",
    "result_df.show(truncate=False)\n"
   ]
  },
  {
   "cell_type": "code",
   "execution_count": 15,
   "id": "2c51c758-c646-4ec7-8e67-39620c680ddb",
   "metadata": {},
   "outputs": [
    {
     "data": {
      "text/html": [
       "<div>\n",
       "<style scoped>\n",
       "    .dataframe tbody tr th:only-of-type {\n",
       "        vertical-align: middle;\n",
       "    }\n",
       "\n",
       "    .dataframe tbody tr th {\n",
       "        vertical-align: top;\n",
       "    }\n",
       "\n",
       "    .dataframe thead th {\n",
       "        text-align: right;\n",
       "    }\n",
       "</style>\n",
       "<table border=\"1\" class=\"dataframe\">\n",
       "  <thead>\n",
       "    <tr style=\"text-align: right;\">\n",
       "      <th></th>\n",
       "      <th>user_id</th>\n",
       "      <th>titles</th>\n",
       "    </tr>\n",
       "  </thead>\n",
       "  <tbody>\n",
       "    <tr>\n",
       "      <th>0</th>\n",
       "      <td>A14OJS0VWMOSWO</td>\n",
       "      <td>[Stones from the River, The Inheritance of Los...</td>\n",
       "    </tr>\n",
       "    <tr>\n",
       "      <th>1</th>\n",
       "      <td>A1T17LMQABMBN5</td>\n",
       "      <td>[Stones from the River, The Inheritance of Los...</td>\n",
       "    </tr>\n",
       "    <tr>\n",
       "      <th>2</th>\n",
       "      <td>A1EKTLUL24HDG8</td>\n",
       "      <td>[Great Expectations, The Awakening, Narrative ...</td>\n",
       "    </tr>\n",
       "    <tr>\n",
       "      <th>3</th>\n",
       "      <td>A17FLA8HQOFVIG</td>\n",
       "      <td>[How To Cook Everything: Simple Recipes for Gr...</td>\n",
       "    </tr>\n",
       "    <tr>\n",
       "      <th>4</th>\n",
       "      <td>A22RY8N8CNDF3A</td>\n",
       "      <td>[The Female Brain, I Feel Bad About My Neck: A...</td>\n",
       "    </tr>\n",
       "  </tbody>\n",
       "</table>\n",
       "</div>"
      ],
      "text/plain": [
       "          user_id                                             titles\n",
       "0  A14OJS0VWMOSWO  [Stones from the River, The Inheritance of Los...\n",
       "1  A1T17LMQABMBN5  [Stones from the River, The Inheritance of Los...\n",
       "2  A1EKTLUL24HDG8  [Great Expectations, The Awakening, Narrative ...\n",
       "3  A17FLA8HQOFVIG  [How To Cook Everything: Simple Recipes for Gr...\n",
       "4  A22RY8N8CNDF3A  [The Female Brain, I Feel Bad About My Neck: A..."
      ]
     },
     "execution_count": 15,
     "metadata": {},
     "output_type": "execute_result"
    }
   ],
   "source": [
    "# Convert the Spark DataFrame to a Pandas DataFrame\n",
    "pandas_df = result_df.toPandas()\n",
    "\n",
    "# Display the Pandas DataFrame\n",
    "pandas_df.head()\n"
   ]
  },
  {
   "cell_type": "code",
   "execution_count": 16,
   "id": "2ac888b8-56d4-451a-b3f3-9831f6343b68",
   "metadata": {},
   "outputs": [],
   "source": [
    "import pickle\n",
    "# Save as .pkl file\n",
    "with open(\"Collab_model.pkl\", \"wb\") as f:\n",
    "    pickle.dump(pandas_df, f)\n"
   ]
  },
  {
   "cell_type": "code",
   "execution_count": 17,
   "id": "045d69ca-887e-4e6f-8c1b-6fb7bb6e1685",
   "metadata": {},
   "outputs": [
    {
     "name": "stdout",
     "output_type": "stream",
     "text": [
      "<class 'pyspark.sql.dataframe.DataFrame'>\n",
      "<class 'pandas.core.frame.DataFrame'>\n"
     ]
    }
   ],
   "source": [
    "print(type(result_df))\n",
    "print(type(pandas_df))"
   ]
  },
  {
   "cell_type": "code",
   "execution_count": null,
   "id": "15aa285d-c2bd-446f-8574-3e9ead86559a",
   "metadata": {},
   "outputs": [],
   "source": [
    "spark.stop()"
   ]
  }
 ],
 "metadata": {
  "kernelspec": {
   "display_name": "Python (PySpark)",
   "language": "python",
   "name": "pyspark_env"
  },
  "language_info": {
   "codemirror_mode": {
    "name": "ipython",
    "version": 3
   },
   "file_extension": ".py",
   "mimetype": "text/x-python",
   "name": "python",
   "nbconvert_exporter": "python",
   "pygments_lexer": "ipython3",
   "version": "3.11.7"
  }
 },
 "nbformat": 4,
 "nbformat_minor": 5
}
