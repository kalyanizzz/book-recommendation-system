{
 "cells": [
  {
   "cell_type": "code",
   "execution_count": 1,
   "id": "9e04768b-90e5-4a5e-a166-ace0053493cc",
   "metadata": {},
   "outputs": [],
   "source": [
    "import pandas as pd"
   ]
  },
  {
   "cell_type": "code",
   "execution_count": 2,
   "id": "008f64d7-4592-4572-94f0-bd2a8f2df49d",
   "metadata": {},
   "outputs": [],
   "source": [
    "# Loading Books Rating data into jupyter\n",
    "\n",
    "df = pd.read_csv(\"C:/Users/nimee/Bigdata/book_recommendations.csv\")"
   ]
  },
  {
   "cell_type": "code",
   "execution_count": 3,
   "id": "5fc46e50-58a6-40be-91c1-4546a3c0bb92",
   "metadata": {},
   "outputs": [
    {
     "data": {
      "text/plain": [
       "(66487, 3)"
      ]
     },
     "execution_count": 3,
     "metadata": {},
     "output_type": "execute_result"
    }
   ],
   "source": [
    "df.shape"
   ]
  },
  {
   "cell_type": "code",
   "execution_count": 4,
   "id": "f84b8c3e-9345-42aa-94d1-969116a2ce23",
   "metadata": {},
   "outputs": [
    {
     "data": {
      "text/html": [
       "<div>\n",
       "<style scoped>\n",
       "    .dataframe tbody tr th:only-of-type {\n",
       "        vertical-align: middle;\n",
       "    }\n",
       "\n",
       "    .dataframe tbody tr th {\n",
       "        vertical-align: top;\n",
       "    }\n",
       "\n",
       "    .dataframe thead th {\n",
       "        text-align: right;\n",
       "    }\n",
       "</style>\n",
       "<table border=\"1\" class=\"dataframe\">\n",
       "  <thead>\n",
       "    <tr style=\"text-align: right;\">\n",
       "      <th></th>\n",
       "      <th>Id</th>\n",
       "      <th>Title</th>\n",
       "      <th>Recommended_Titles</th>\n",
       "    </tr>\n",
       "  </thead>\n",
       "  <tbody>\n",
       "    <tr>\n",
       "      <th>0</th>\n",
       "      <td>0001052934</td>\n",
       "      <td>Regeneration</td>\n",
       "      <td>['Regeneration 5: Kill (Regeneration)', 'ReGen...</td>\n",
       "    </tr>\n",
       "    <tr>\n",
       "      <th>1</th>\n",
       "      <td>0001472879</td>\n",
       "      <td>Hebrew-Scholarly Bible</td>\n",
       "      <td>['The early church, (Knowing Christianity)', '...</td>\n",
       "    </tr>\n",
       "    <tr>\n",
       "      <th>2</th>\n",
       "      <td>0001474103</td>\n",
       "      <td>The Spirit World</td>\n",
       "      <td>['Spirit World']</td>\n",
       "    </tr>\n",
       "    <tr>\n",
       "      <th>3</th>\n",
       "      <td>0001720104</td>\n",
       "      <td>Mr. Plod and the Stolen Bicycle (Toy Town Stor...</td>\n",
       "      <td>['A Christmas Card for Mr. Mcfizz', 'Mr. Glenc...</td>\n",
       "    </tr>\n",
       "    <tr>\n",
       "      <th>4</th>\n",
       "      <td>0002155451</td>\n",
       "      <td>A Sparrow's Flight: The Memoirs of Lord Hailsh...</td>\n",
       "      <td>['Memoirs of a Cavalier', 'The Norman Pretende...</td>\n",
       "    </tr>\n",
       "  </tbody>\n",
       "</table>\n",
       "</div>"
      ],
      "text/plain": [
       "           Id                                              Title  \\\n",
       "0  0001052934                                       Regeneration   \n",
       "1  0001472879                             Hebrew-Scholarly Bible   \n",
       "2  0001474103                                   The Spirit World   \n",
       "3  0001720104  Mr. Plod and the Stolen Bicycle (Toy Town Stor...   \n",
       "4  0002155451  A Sparrow's Flight: The Memoirs of Lord Hailsh...   \n",
       "\n",
       "                                  Recommended_Titles  \n",
       "0  ['Regeneration 5: Kill (Regeneration)', 'ReGen...  \n",
       "1  ['The early church, (Knowing Christianity)', '...  \n",
       "2                                   ['Spirit World']  \n",
       "3  ['A Christmas Card for Mr. Mcfizz', 'Mr. Glenc...  \n",
       "4  ['Memoirs of a Cavalier', 'The Norman Pretende...  "
      ]
     },
     "execution_count": 4,
     "metadata": {},
     "output_type": "execute_result"
    }
   ],
   "source": [
    "df.head()"
   ]
  },
  {
   "cell_type": "code",
   "execution_count": 6,
   "id": "aa6f94a4-4aa9-4210-85d5-62f0a763c44f",
   "metadata": {},
   "outputs": [
    {
     "data": {
      "text/plain": [
       "0    ['Regeneration 5: Kill (Regeneration)', 'ReGen...\n",
       "1    ['The early church, (Knowing Christianity)', '...\n",
       "2                                     ['Spirit World']\n",
       "3    ['A Christmas Card for Mr. Mcfizz', 'Mr. Glenc...\n",
       "4    ['Memoirs of a Cavalier', 'The Norman Pretende...\n",
       "Name: Recommended_Titles, dtype: object"
      ]
     },
     "execution_count": 6,
     "metadata": {},
     "output_type": "execute_result"
    }
   ],
   "source": [
    "df[\"Recommended_Titles\"].head()"
   ]
  },
  {
   "cell_type": "code",
   "execution_count": 7,
   "id": "3c07aada-5dc9-4ccf-ac6d-681b1417a981",
   "metadata": {},
   "outputs": [],
   "source": [
    "import pickle\n",
    "# Save as .pkl file\n",
    "with open(\"Content_model.pkl\", \"wb\") as f:\n",
    "    pickle.dump(df, f)\n"
   ]
  },
  {
   "cell_type": "code",
   "execution_count": null,
   "id": "e51d7344-1a10-4a6a-b32a-d51d9ed279a9",
   "metadata": {},
   "outputs": [],
   "source": []
  }
 ],
 "metadata": {
  "kernelspec": {
   "display_name": "Python 3 (ipykernel)",
   "language": "python",
   "name": "python3"
  },
  "language_info": {
   "codemirror_mode": {
    "name": "ipython",
    "version": 3
   },
   "file_extension": ".py",
   "mimetype": "text/x-python",
   "name": "python",
   "nbconvert_exporter": "python",
   "pygments_lexer": "ipython3",
   "version": "3.11.7"
  }
 },
 "nbformat": 4,
 "nbformat_minor": 5
}
