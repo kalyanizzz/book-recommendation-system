{
 "cells": [
  {
   "cell_type": "code",
   "execution_count": 1,
   "id": "c9a29b52-9040-4600-b95b-6d7e1ab8c15c",
   "metadata": {},
   "outputs": [],
   "source": [
    "import findspark\n",
    "findspark.init()"
   ]
  },
  {
   "cell_type": "code",
   "execution_count": 2,
   "id": "97ca1ac9-74ce-446b-813f-9fc0198d23ff",
   "metadata": {},
   "outputs": [],
   "source": [
    "from pyspark.sql import SparkSession"
   ]
  },
  {
   "cell_type": "code",
   "execution_count": 3,
   "id": "2578c448-3c47-4510-aed8-7c972410a122",
   "metadata": {},
   "outputs": [],
   "source": [
    "spark=SparkSession.builder.config(\"spark-driver.host\", \"localhost\").config(\"spark.driver.memory\",\"4g\") \\\n",
    ".config(\"spark.executor.memory\",\"4g\").appName(\"mr\").getOrCreate()"
   ]
  },
  {
   "cell_type": "code",
   "execution_count": 4,
   "id": "aeb23d55-5206-4e7e-808b-b94ecf1d54f3",
   "metadata": {},
   "outputs": [
    {
     "data": {
      "text/html": [
       "\n",
       "            <div>\n",
       "                <p><b>SparkSession - in-memory</b></p>\n",
       "                \n",
       "        <div>\n",
       "            <p><b>SparkContext</b></p>\n",
       "\n",
       "            <p><a href=\"http://10.250.99.194:4043\">Spark UI</a></p>\n",
       "\n",
       "            <dl>\n",
       "              <dt>Version</dt>\n",
       "                <dd><code>v3.5.3</code></dd>\n",
       "              <dt>Master</dt>\n",
       "                <dd><code>local[*]</code></dd>\n",
       "              <dt>AppName</dt>\n",
       "                <dd><code>mr</code></dd>\n",
       "            </dl>\n",
       "        </div>\n",
       "        \n",
       "            </div>\n",
       "        "
      ],
      "text/plain": [
       "<pyspark.sql.session.SparkSession at 0x28451da6b50>"
      ]
     },
     "execution_count": 4,
     "metadata": {},
     "output_type": "execute_result"
    }
   ],
   "source": [
    "spark"
   ]
  },
  {
   "cell_type": "code",
   "execution_count": 5,
   "id": "5b34b394-e0da-4876-b600-850d4c3223d8",
   "metadata": {},
   "outputs": [],
   "source": [
    "#import required libraries\n",
    "\n",
    "from pyspark.sql import SparkSession\n",
    "from pyspark.sql.functions import col\n",
    "from pyspark.ml.recommendation import ALS\n",
    "from pyspark.ml.evaluation import RegressionEvaluator\n",
    "from pyspark.ml.feature import StringIndexer\n",
    "from pyspark.sql.functions import col, avg, count\n",
    "from pyspark.ml import Pipeline\n"
   ]
  },
  {
   "cell_type": "code",
   "execution_count": 6,
   "id": "4ccf462b-64da-4197-9329-5a76c4783fc9",
   "metadata": {},
   "outputs": [
    {
     "name": "stdout",
     "output_type": "stream",
     "text": [
      "+----------+--------------------+-----+--------------+--------------------+------------------+------------+-----------+--------------------+--------------------+\n",
      "|        Id|               Title|Price|       User_id|         profileName|review/helpfulness|review/score|review/time|      review/summary|         review/text|\n",
      "+----------+--------------------+-----+--------------+--------------------+------------------+------------+-----------+--------------------+--------------------+\n",
      "|1882931173|Its Only Art If I...| NULL| AVCGYZL8FQQTD|\"Jim of Oz \"\"jim-...|               7/7|         4.0|  940636800|Nice collection o...|This is only for ...|\n",
      "|0826414346|Dr. Seuss: Americ...| NULL|A30TK6U7DNS82R|       Kevin Killian|             10/10|         5.0| 1095724800|   Really Enjoyed It|I don't care much...|\n",
      "|0826414346|Dr. Seuss: Americ...| NULL|A3UH4UZ4RSVO82|        John Granger|             10/11|         5.0| 1078790400|Essential for eve...|\"If people become...|\n",
      "|0826414346|Dr. Seuss: Americ...| NULL|A2MVUWT453QH61|\"Roy E. Perry \"\"a...|               7/7|         4.0| 1090713600|Phlip Nel gives s...|Theodore Seuss Ge...|\n",
      "|0826414346|Dr. Seuss: Americ...| NULL|A22X4XUPKF66MR|\"D. H. Richards \"...|               3/3|         4.0| 1107993600|Good academic ove...|\"Philip Nel - Dr....|\n",
      "+----------+--------------------+-----+--------------+--------------------+------------------+------------+-----------+--------------------+--------------------+\n",
      "only showing top 5 rows\n",
      "\n"
     ]
    }
   ],
   "source": [
    "# Initialize Spark session\n",
    "spark = SparkSession.builder \\\n",
    "    .appName(\"Connect to HDFS\") \\\n",
    "    .config(\"spark.hadoop.fs.defaultFS\", \"hdfs://10.0.2.15:9000\") \\\n",
    "    .getOrCreate()\n",
    "\n",
    "# Test HDFS access by listing files\n",
    "hdfs_path = \"hdfs:10.0.2.15:9000/user/Group04/Books.csv\"\n",
    "df = spark.read.csv(hdfs_path, header=True, inferSchema=True)\n",
    "df.show(5)"
   ]
  },
  {
   "cell_type": "code",
   "execution_count": 7,
   "id": "0d9ab602-38cc-4427-a2b2-1705069fae9b",
   "metadata": {},
   "outputs": [
    {
     "name": "stdout",
     "output_type": "stream",
     "text": [
      "+----------+--------------------+-----+--------------+-------------------+------------------+------------+-----------+--------------------+--------------------+\n",
      "|        Id|               Title|Price|       User_id|        profileName|review/helpfulness|review/score|review/time|      review/summary|         review/text|\n",
      "+----------+--------------------+-----+--------------+-------------------+------------------+------------+-----------+--------------------+--------------------+\n",
      "|0595129463|Marshall Hollenze...|12.95|A39OBC2D154CCU| Elizabeth Bookspan|               1/1|         5.0|  987897600|You Won't Be Able...|Marshall Hollenze...|\n",
      "|0679751254|Lenin's Tomb: The...|12.11|A3PHHV3UJAUP8B| \"mobuto \"\"-----\"\"\"|               3/5|         5.0|  984873600|  Soviet Tocqueville|Remnick writes el...|\n",
      "|0919345476|The Witches' God:...|16.75| ASH2T0XFJFLPQ|       John Culloty|               6/6|         5.0| 1011139200|A Primer of Pagan...|This book provide...|\n",
      "|0833025147|In Athena's Camp:...|36.00| AHZE4E3Q691ME|\"G. Mitchell \"\".\"\"\"|             10/10|         4.0|  965520000|A theoretical loo...|This book tackles...|\n",
      "|0897501225|Small-Circle Jujitsu|12.21|A3RQ453MNA2DIP|      J. Sunderland|               0/0|         5.0| 1290038400|                Nice|This book has goo...|\n",
      "+----------+--------------------+-----+--------------+-------------------+------------------+------------+-----------+--------------------+--------------------+\n",
      "only showing top 5 rows\n",
      "\n"
     ]
    }
   ],
   "source": [
    "df = df.na.drop(\"any\")\n",
    "df = df.dropDuplicates()\n",
    "df.show(5)"
   ]
  },
  {
   "cell_type": "code",
   "execution_count": 8,
   "id": "225a1f81-5679-4caa-ad88-d3e5f43ed5be",
   "metadata": {},
   "outputs": [],
   "source": [
    "\n",
    "# Calculate count of reviews and average review score for  books\n",
    "popular_books_df = df.groupBy('Id', 'Title') \\\n",
    "    .agg(\n",
    "        count('review/score').alias('review_count'),\n",
    "        avg('review/score').alias('average_review_score')\n",
    "    )"
   ]
  },
  {
   "cell_type": "code",
   "execution_count": 9,
   "id": "f1e05555-38e1-43f9-bb2a-5454a7a5a85d",
   "metadata": {},
   "outputs": [
    {
     "data": {
      "text/plain": [
       "DataFrame[Id: string, Title: string, review_count: bigint, average_review_score: double]"
      ]
     },
     "execution_count": 9,
     "metadata": {},
     "output_type": "execute_result"
    }
   ],
   "source": [
    "# Define the ID to be removed\n",
    "target_id = \"159335648X\"\n",
    "popular_books_df.filter(df.Id != target_id)"
   ]
  },
  {
   "cell_type": "code",
   "execution_count": 10,
   "id": "8b0044ad-ab3e-434e-a13d-f53c7f95e745",
   "metadata": {},
   "outputs": [],
   "source": [
    "#sort the books in desc order \n",
    "\n",
    "sorted_books_df = popular_books_df.orderBy(col('review_count').desc(), col('average_review_score').desc())"
   ]
  },
  {
   "cell_type": "code",
   "execution_count": 11,
   "id": "f50492dc-857c-4855-96f7-02297f6784d7",
   "metadata": {},
   "outputs": [
    {
     "name": "stdout",
     "output_type": "stream",
     "text": [
      "+----------+--------------------+------------+--------------------+\n",
      "|        Id|               Title|review_count|average_review_score|\n",
      "+----------+--------------------+------------+--------------------+\n",
      "|1932100385|The China Study: ...|        1462|   4.581379310344827|\n",
      "|0307280721|Eldest (Inheritan...|        1274|   3.740916271721959|\n",
      "|0312857055|Wizard's First Ru...|        1268|  3.8632411067193675|\n",
      "|0440224675|            Hannibal|        1248|  3.1850362027353176|\n",
      "|0435126024|Jane Eyre (New Wi...|        1189|   4.550883095037847|\n",
      "|1847022251|Jane Eyre (Large ...|        1189|   4.550883095037847|\n",
      "|159335648X|Killing Floor (Ja...|        1130|  4.1066666666666665|\n",
      "|069452607X|       Good to Great|         993|   4.384146341463414|\n",
      "|1589269063|The Five Love Lan...|         985|  4.7080366225839265|\n",
      "|9626346825|A Christmas Carol...|         956|    4.68586387434555|\n",
      "+----------+--------------------+------------+--------------------+\n",
      "only showing top 10 rows\n",
      "\n"
     ]
    }
   ],
   "source": [
    "sorted_books_df.show(10)"
   ]
  },
  {
   "cell_type": "code",
   "execution_count": 12,
   "id": "6fab4517-18bf-40c9-95b4-5a666a319e85",
   "metadata": {},
   "outputs": [],
   "source": [
    "sorted_books_pd = sorted_books_df.toPandas()"
   ]
  },
  {
   "cell_type": "code",
   "execution_count": 13,
   "id": "f7ea1c84-e5aa-4bf9-9607-9093aba08f36",
   "metadata": {},
   "outputs": [
    {
     "data": {
      "text/html": [
       "<div>\n",
       "<style scoped>\n",
       "    .dataframe tbody tr th:only-of-type {\n",
       "        vertical-align: middle;\n",
       "    }\n",
       "\n",
       "    .dataframe tbody tr th {\n",
       "        vertical-align: top;\n",
       "    }\n",
       "\n",
       "    .dataframe thead th {\n",
       "        text-align: right;\n",
       "    }\n",
       "</style>\n",
       "<table border=\"1\" class=\"dataframe\">\n",
       "  <thead>\n",
       "    <tr style=\"text-align: right;\">\n",
       "      <th></th>\n",
       "      <th>Id</th>\n",
       "      <th>Title</th>\n",
       "      <th>review_count</th>\n",
       "      <th>average_review_score</th>\n",
       "    </tr>\n",
       "  </thead>\n",
       "  <tbody>\n",
       "    <tr>\n",
       "      <th>0</th>\n",
       "      <td>1932100385</td>\n",
       "      <td>The China Study: The Most Comprehensive Study ...</td>\n",
       "      <td>1462</td>\n",
       "      <td>4.581379</td>\n",
       "    </tr>\n",
       "    <tr>\n",
       "      <th>1</th>\n",
       "      <td>0307280721</td>\n",
       "      <td>Eldest (Inheritance, Book 2)</td>\n",
       "      <td>1274</td>\n",
       "      <td>3.740916</td>\n",
       "    </tr>\n",
       "    <tr>\n",
       "      <th>2</th>\n",
       "      <td>0312857055</td>\n",
       "      <td>Wizard's First Rule (Sword of Truth, Book 1)</td>\n",
       "      <td>1268</td>\n",
       "      <td>3.863241</td>\n",
       "    </tr>\n",
       "    <tr>\n",
       "      <th>3</th>\n",
       "      <td>0440224675</td>\n",
       "      <td>Hannibal</td>\n",
       "      <td>1248</td>\n",
       "      <td>3.185036</td>\n",
       "    </tr>\n",
       "    <tr>\n",
       "      <th>4</th>\n",
       "      <td>1847022251</td>\n",
       "      <td>Jane Eyre (Large Print)</td>\n",
       "      <td>1189</td>\n",
       "      <td>4.550883</td>\n",
       "    </tr>\n",
       "    <tr>\n",
       "      <th>5</th>\n",
       "      <td>0435126024</td>\n",
       "      <td>Jane Eyre (New Windmill)</td>\n",
       "      <td>1189</td>\n",
       "      <td>4.550883</td>\n",
       "    </tr>\n",
       "  </tbody>\n",
       "</table>\n",
       "</div>"
      ],
      "text/plain": [
       "           Id                                              Title  \\\n",
       "0  1932100385  The China Study: The Most Comprehensive Study ...   \n",
       "1  0307280721                       Eldest (Inheritance, Book 2)   \n",
       "2  0312857055       Wizard's First Rule (Sword of Truth, Book 1)   \n",
       "3  0440224675                                           Hannibal   \n",
       "4  1847022251                            Jane Eyre (Large Print)   \n",
       "5  0435126024                           Jane Eyre (New Windmill)   \n",
       "\n",
       "   review_count  average_review_score  \n",
       "0          1462              4.581379  \n",
       "1          1274              3.740916  \n",
       "2          1268              3.863241  \n",
       "3          1248              3.185036  \n",
       "4          1189              4.550883  \n",
       "5          1189              4.550883  "
      ]
     },
     "execution_count": 13,
     "metadata": {},
     "output_type": "execute_result"
    }
   ],
   "source": [
    "sorted = sorted_books_pd.head(6)\n",
    "sorted.head(6)"
   ]
  },
  {
   "cell_type": "code",
   "execution_count": 16,
   "id": "67697b07-80d4-4b69-935f-f324af272983",
   "metadata": {},
   "outputs": [],
   "source": [
    "import pandas as pd\n",
    "books=pd.read_csv('Books.csv')"
   ]
  },
  {
   "cell_type": "code",
   "execution_count": 17,
   "id": "604bc2a9-c6e4-4391-a790-1df040347144",
   "metadata": {},
   "outputs": [],
   "source": [
    "sorted_books = pd.read_csv('v1.csv')"
   ]
  },
  {
   "cell_type": "code",
   "execution_count": 19,
   "id": "8bc4486a-44f9-44bb-8cc6-c52058b5ae3c",
   "metadata": {},
   "outputs": [],
   "source": [
    "sorted_books_pd = sorted_books_df.toPandas()\n",
    "import pickle\n",
    "# Save as .pkl file\n",
    "with open(\"PopularBookRecommendation.pkl\", \"wb\") as f:\n",
    "    pickle.dump(sorted_books, f)\n"
   ]
  },
  {
   "cell_type": "code",
   "execution_count": null,
   "id": "a29fede8-a030-4a2f-bc4e-01bc119d62af",
   "metadata": {},
   "outputs": [],
   "source": [
    "spark.stop()"
   ]
  }
 ],
 "metadata": {
  "kernelspec": {
   "display_name": "Python (PySpark)",
   "language": "python",
   "name": "pyspark_env"
  },
  "language_info": {
   "codemirror_mode": {
    "name": "ipython",
    "version": 3
   },
   "file_extension": ".py",
   "mimetype": "text/x-python",
   "name": "python",
   "nbconvert_exporter": "python",
   "pygments_lexer": "ipython3",
   "version": "3.11.7"
  }
 },
 "nbformat": 4,
 "nbformat_minor": 5
}
