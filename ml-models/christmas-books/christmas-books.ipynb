{
 "cells": [
  {
   "cell_type": "code",
   "execution_count": 1,
   "id": "c9a29b52-9040-4600-b95b-6d7e1ab8c15c",
   "metadata": {},
   "outputs": [],
   "source": [
    "import findspark\n",
    "findspark.init()"
   ]
  },
  {
   "cell_type": "code",
   "execution_count": 2,
   "id": "97ca1ac9-74ce-446b-813f-9fc0198d23ff",
   "metadata": {},
   "outputs": [],
   "source": [
    "from pyspark.sql import SparkSession"
   ]
  },
  {
   "cell_type": "code",
   "execution_count": 3,
   "id": "2578c448-3c47-4510-aed8-7c972410a122",
   "metadata": {},
   "outputs": [],
   "source": [
    "spark=SparkSession.builder.config(\"spark-driver.host\", \"localhost\").config(\"spark.driver.memory\",\"4g\") \\\n",
    ".config(\"spark.executor.memory\",\"4g\").appName(\"mr\").getOrCreate()"
   ]
  },
  {
   "cell_type": "code",
   "execution_count": 4,
   "id": "aeb23d55-5206-4e7e-808b-b94ecf1d54f3",
   "metadata": {},
   "outputs": [
    {
     "data": {
      "text/html": [
       "\n",
       "            <div>\n",
       "                <p><b>SparkSession - in-memory</b></p>\n",
       "                \n",
       "        <div>\n",
       "            <p><b>SparkContext</b></p>\n",
       "\n",
       "            <p><a href=\"http://10.250.99.194:4044\">Spark UI</a></p>\n",
       "\n",
       "            <dl>\n",
       "              <dt>Version</dt>\n",
       "                <dd><code>v3.5.3</code></dd>\n",
       "              <dt>Master</dt>\n",
       "                <dd><code>local[*]</code></dd>\n",
       "              <dt>AppName</dt>\n",
       "                <dd><code>mr</code></dd>\n",
       "            </dl>\n",
       "        </div>\n",
       "        \n",
       "            </div>\n",
       "        "
      ],
      "text/plain": [
       "<pyspark.sql.session.SparkSession at 0x1417153fad0>"
      ]
     },
     "execution_count": 4,
     "metadata": {},
     "output_type": "execute_result"
    }
   ],
   "source": [
    "spark"
   ]
  },
  {
   "cell_type": "code",
   "execution_count": 5,
   "id": "5b34b394-e0da-4876-b600-850d4c3223d8",
   "metadata": {},
   "outputs": [],
   "source": [
    "#import required libraries\n",
    "\n",
    "from pyspark.sql import SparkSession\n",
    "from pyspark.sql.functions import col\n",
    "from pyspark.ml.recommendation import ALS\n",
    "from pyspark.ml.evaluation import RegressionEvaluator\n",
    "from pyspark.ml.feature import StringIndexer\n",
    "from pyspark.sql.functions import col, avg, count\n",
    "from pyspark.ml import Pipeline\n"
   ]
  },
  {
   "cell_type": "code",
   "execution_count": 6,
   "id": "4ccf462b-64da-4197-9329-5a76c4783fc9",
   "metadata": {},
   "outputs": [
    {
     "name": "stdout",
     "output_type": "stream",
     "text": [
      "+----------+--------------------+-----+--------------+--------------------+------------------+------------+-----------+--------------------+--------------------+\n",
      "|        Id|               Title|Price|       User_id|         profileName|review/helpfulness|review/score|review/time|      review/summary|         review/text|\n",
      "+----------+--------------------+-----+--------------+--------------------+------------------+------------+-----------+--------------------+--------------------+\n",
      "|1882931173|Its Only Art If I...| NULL| AVCGYZL8FQQTD|\"Jim of Oz \"\"jim-...|               7/7|         4.0|  940636800|Nice collection o...|This is only for ...|\n",
      "|0826414346|Dr. Seuss: Americ...| NULL|A30TK6U7DNS82R|       Kevin Killian|             10/10|         5.0| 1095724800|   Really Enjoyed It|I don't care much...|\n",
      "|0826414346|Dr. Seuss: Americ...| NULL|A3UH4UZ4RSVO82|        John Granger|             10/11|         5.0| 1078790400|Essential for eve...|\"If people become...|\n",
      "|0826414346|Dr. Seuss: Americ...| NULL|A2MVUWT453QH61|\"Roy E. Perry \"\"a...|               7/7|         4.0| 1090713600|Phlip Nel gives s...|Theodore Seuss Ge...|\n",
      "|0826414346|Dr. Seuss: Americ...| NULL|A22X4XUPKF66MR|\"D. H. Richards \"...|               3/3|         4.0| 1107993600|Good academic ove...|\"Philip Nel - Dr....|\n",
      "+----------+--------------------+-----+--------------+--------------------+------------------+------------+-----------+--------------------+--------------------+\n",
      "only showing top 5 rows\n",
      "\n"
     ]
    }
   ],
   "source": [
    "spark = SparkSession.builder \\\n",
    "    .appName(\"Connect to HDFS\") \\\n",
    "    .config(\"spark.hadoop.fs.defaultFS\", \"hdfs://10.0.2.15:9000\") \\\n",
    "    .getOrCreate()\n",
    "\n",
    "# Test HDFS access by listing files\n",
    "hdfs_path = \"hdfs:10.0.2.15:9000/user/Group04/Books.csv\"\n",
    "df = spark.read.csv(hdfs_path, header=True, inferSchema=True)\n",
    "df.show(5)\n",
    "\n",
    "df.show(5)"
   ]
  },
  {
   "cell_type": "code",
   "execution_count": 7,
   "id": "0d9ab602-38cc-4427-a2b2-1705069fae9b",
   "metadata": {},
   "outputs": [
    {
     "name": "stdout",
     "output_type": "stream",
     "text": [
      "+----------+--------------------+-----+--------------+-------------------+------------------+------------+-----------+--------------------+--------------------+\n",
      "|        Id|               Title|Price|       User_id|        profileName|review/helpfulness|review/score|review/time|      review/summary|         review/text|\n",
      "+----------+--------------------+-----+--------------+-------------------+------------------+------------+-----------+--------------------+--------------------+\n",
      "|0595129463|Marshall Hollenze...|12.95|A39OBC2D154CCU| Elizabeth Bookspan|               1/1|         5.0|  987897600|You Won't Be Able...|Marshall Hollenze...|\n",
      "|0679751254|Lenin's Tomb: The...|12.11|A3PHHV3UJAUP8B| \"mobuto \"\"-----\"\"\"|               3/5|         5.0|  984873600|  Soviet Tocqueville|Remnick writes el...|\n",
      "|0919345476|The Witches' God:...|16.75| ASH2T0XFJFLPQ|       John Culloty|               6/6|         5.0| 1011139200|A Primer of Pagan...|This book provide...|\n",
      "|0833025147|In Athena's Camp:...|36.00| AHZE4E3Q691ME|\"G. Mitchell \"\".\"\"\"|             10/10|         4.0|  965520000|A theoretical loo...|This book tackles...|\n",
      "|0897501225|Small-Circle Jujitsu|12.21|A3RQ453MNA2DIP|      J. Sunderland|               0/0|         5.0| 1290038400|                Nice|This book has goo...|\n",
      "+----------+--------------------+-----+--------------+-------------------+------------------+------------+-----------+--------------------+--------------------+\n",
      "only showing top 5 rows\n",
      "\n"
     ]
    }
   ],
   "source": [
    "df = df.na.drop(\"any\")\n",
    "df = df.dropDuplicates()\n",
    "df.show(5)"
   ]
  },
  {
   "cell_type": "code",
   "execution_count": 8,
   "id": "9ae3bba1-976d-4ef6-aad1-851bed8bac7e",
   "metadata": {},
   "outputs": [
    {
     "data": {
      "text/plain": [
       "['Id',\n",
       " 'Title',\n",
       " 'Price',\n",
       " 'User_id',\n",
       " 'profileName',\n",
       " 'review/helpfulness',\n",
       " 'review/score',\n",
       " 'review/time',\n",
       " 'review/summary',\n",
       " 'review/text']"
      ]
     },
     "execution_count": 8,
     "metadata": {},
     "output_type": "execute_result"
    }
   ],
   "source": [
    "df.columns"
   ]
  },
  {
   "cell_type": "code",
   "execution_count": 9,
   "id": "b4159f98-44f8-4420-9edc-98ef2fb1ffcf",
   "metadata": {},
   "outputs": [
    {
     "name": "stdout",
     "output_type": "stream",
     "text": [
      "+-----------------------------------------------------------------------------------------------------+----------+------------+--------------------+----------+\n",
      "|Title                                                                                                |Id        |review_count|average_review_score|row_number|\n",
      "+-----------------------------------------------------------------------------------------------------+----------+------------+--------------------+----------+\n",
      "|A Christmas Carol, in Prose: Being a Ghost Story of Christmas (Collected Works of Charles Dickens)   |0742623157|593         |4.758853288364249   |1         |\n",
      "|A Christmas Carol (Classic Fiction)                                                                  |9626346825|593         |4.758853288364249   |1         |\n",
      "|The Night Before Christmas, The (Wee Books for Wee Folk)                                             |1557094101|181         |4.541436464088398   |1         |\n",
      "|The Night Before Christmas Pop-up                                                                    |0689838999|52          |4.884615384615385   |1         |\n",
      "|A First Book of Christmas Songs: 20 Favorite Songs in Easy Piano Arrangements (Dover Music for Piano)|0486297187|36          |4.0                 |1         |\n",
      "|Hogfather (Discworld)                                                                                |0753105209|31          |4.516129032258065   |1         |\n",
      "+-----------------------------------------------------------------------------------------------------+----------+------------+--------------------+----------+\n",
      "\n"
     ]
    }
   ],
   "source": [
    "from pyspark.sql.functions import col, lower, row_number\n",
    "from pyspark.sql.window import Window\n",
    "\n",
    "# Filter books where review/summary or review/text contains the word \"Christmas\"\n",
    "filtered_books = df.filter(\n",
    "    (lower(col(\"review/summary\")).contains(\"christmas\")) | \n",
    "    (lower(col(\"review/text\")).contains(\"christmas\"))\n",
    ")\n",
    "\n",
    "# Group by Title and calculate review count and average review score\n",
    "popular_books_with_christmas = filtered_books.groupBy(\"Title\", \"Id\") \\\n",
    "    .agg(\n",
    "        count(\"review/score\").alias(\"review_count\"),\n",
    "        avg(\"review/score\").alias(\"average_review_score\")\n",
    "    )\n",
    "\n",
    "# Define a window partitioned by Title to ensure unique titles\n",
    "window_spec = Window.partitionBy(\"Title\").orderBy(\n",
    "    col(\"review_count\").desc(), col(\"average_review_score\").desc()\n",
    ")\n",
    "\n",
    "# Add a row number within each partition (Title) to ensure uniqueness\n",
    "unique_books = popular_books_with_christmas.withColumn(\"row_number\", row_number().over(window_spec)) \\\n",
    "    .filter(col(\"row_number\") == 1)  # Keep only the first record for each title\n",
    "\n",
    "# Order the final results by review count and average review score to get the top 6 books\n",
    "top_6_unique_books = unique_books.orderBy(\n",
    "    col(\"review_count\").desc(), col(\"average_review_score\").desc()\n",
    ").limit(6)\n",
    "\n",
    "# Show the top 6 unique books\n",
    "top_6_unique_books.show(truncate=False)\n"
   ]
  },
  {
   "cell_type": "code",
   "execution_count": 10,
   "id": "22fd64cd-4729-4b46-b2c2-1d097516f625",
   "metadata": {},
   "outputs": [
    {
     "data": {
      "text/html": [
       "<div>\n",
       "<style scoped>\n",
       "    .dataframe tbody tr th:only-of-type {\n",
       "        vertical-align: middle;\n",
       "    }\n",
       "\n",
       "    .dataframe tbody tr th {\n",
       "        vertical-align: top;\n",
       "    }\n",
       "\n",
       "    .dataframe thead th {\n",
       "        text-align: right;\n",
       "    }\n",
       "</style>\n",
       "<table border=\"1\" class=\"dataframe\">\n",
       "  <thead>\n",
       "    <tr style=\"text-align: right;\">\n",
       "      <th></th>\n",
       "      <th>Title</th>\n",
       "      <th>Id</th>\n",
       "      <th>review_count</th>\n",
       "      <th>average_review_score</th>\n",
       "      <th>row_number</th>\n",
       "    </tr>\n",
       "  </thead>\n",
       "  <tbody>\n",
       "    <tr>\n",
       "      <th>0</th>\n",
       "      <td>A Christmas Carol, in Prose: Being a Ghost Sto...</td>\n",
       "      <td>0742623157</td>\n",
       "      <td>593</td>\n",
       "      <td>4.758853</td>\n",
       "      <td>1</td>\n",
       "    </tr>\n",
       "    <tr>\n",
       "      <th>1</th>\n",
       "      <td>A Christmas Carol (Classic Fiction)</td>\n",
       "      <td>9626346825</td>\n",
       "      <td>593</td>\n",
       "      <td>4.758853</td>\n",
       "      <td>1</td>\n",
       "    </tr>\n",
       "    <tr>\n",
       "      <th>2</th>\n",
       "      <td>The Night Before Christmas, The (Wee Books for...</td>\n",
       "      <td>1557094101</td>\n",
       "      <td>181</td>\n",
       "      <td>4.541436</td>\n",
       "      <td>1</td>\n",
       "    </tr>\n",
       "    <tr>\n",
       "      <th>3</th>\n",
       "      <td>The Night Before Christmas Pop-up</td>\n",
       "      <td>0689838999</td>\n",
       "      <td>52</td>\n",
       "      <td>4.884615</td>\n",
       "      <td>1</td>\n",
       "    </tr>\n",
       "    <tr>\n",
       "      <th>4</th>\n",
       "      <td>A First Book of Christmas Songs: 20 Favorite S...</td>\n",
       "      <td>0486297187</td>\n",
       "      <td>36</td>\n",
       "      <td>4.000000</td>\n",
       "      <td>1</td>\n",
       "    </tr>\n",
       "    <tr>\n",
       "      <th>5</th>\n",
       "      <td>Hogfather (Discworld)</td>\n",
       "      <td>0753105209</td>\n",
       "      <td>31</td>\n",
       "      <td>4.516129</td>\n",
       "      <td>1</td>\n",
       "    </tr>\n",
       "  </tbody>\n",
       "</table>\n",
       "</div>"
      ],
      "text/plain": [
       "                                               Title          Id  \\\n",
       "0  A Christmas Carol, in Prose: Being a Ghost Sto...  0742623157   \n",
       "1                A Christmas Carol (Classic Fiction)  9626346825   \n",
       "2  The Night Before Christmas, The (Wee Books for...  1557094101   \n",
       "3                  The Night Before Christmas Pop-up  0689838999   \n",
       "4  A First Book of Christmas Songs: 20 Favorite S...  0486297187   \n",
       "5                              Hogfather (Discworld)  0753105209   \n",
       "\n",
       "   review_count  average_review_score  row_number  \n",
       "0           593              4.758853           1  \n",
       "1           593              4.758853           1  \n",
       "2           181              4.541436           1  \n",
       "3            52              4.884615           1  \n",
       "4            36              4.000000           1  \n",
       "5            31              4.516129           1  "
      ]
     },
     "execution_count": 10,
     "metadata": {},
     "output_type": "execute_result"
    }
   ],
   "source": [
    "# Convert Spark DataFrame to Pandas DataFrame\n",
    "pandas_df = top_6_unique_books.toPandas()\n",
    "\n",
    "# Display the Pandas DataFrame\n",
    "(pandas_df.head(6))\n"
   ]
  },
  {
   "cell_type": "code",
   "execution_count": 11,
   "id": "6a41a074-433b-4dd9-baf0-bf5f295c56ab",
   "metadata": {},
   "outputs": [
    {
     "name": "stdout",
     "output_type": "stream",
     "text": [
      "CSV file has been saved as filtered_books.csv\n"
     ]
    }
   ],
   "source": [
    "# Drop the specified columns\n",
    "pandas_df = pandas_df.drop(['review_count', 'row_number'], axis=1)\n",
    "\n",
    "# Save the updated DataFrame to a CSV file\n",
    "output_file_path = \"filtered_books.csv\"\n",
    "pandas_df.to_csv(output_file_path, index=False)\n",
    "\n",
    "print(f\"CSV file has been saved as {output_file_path}\")"
   ]
  },
  {
   "cell_type": "code",
   "execution_count": 12,
   "id": "1197f158-b192-4666-bfcc-30d83cece402",
   "metadata": {},
   "outputs": [
    {
     "name": "stdout",
     "output_type": "stream",
     "text": [
      "+----------+-------------------------------------------------------------+-----+--------------+------------------------------+------------------+------------+-----------+---------------------------------------------+--------------------------------------------------------------------------------------------------------------------------------------------------------------------------------------------------------------------------------------------------------------------------------------------------------------------------------------------------------------------------------------------------------------------------------------------------------------------------------------------------------------------------------------------------------------------------------------------------------------------------------------------------------------------------------------------------------------------------------------------------------------------------------------------------------------------------------------------------------------------------------------------------------------------------------------------------------------------------------------------------------------------------------------------------------------------------------------------------------------------------------------------------------------------------------------------------------------------------------------------------------------------------------------------------------------------------------------------------------------------------------------------------------------------------------------------------------------------------------------------------------------------------------------------------------------------------------+\n",
      "|Id        |Title                                                        |Price|User_id       |profileName                   |review/helpfulness|review/score|review/time|review/summary                               |review/text                                                                                                                                                                                                                                                                                                                                                                                                                                                                                                                                                                                                                                                                                                                                                                                                                                                                                                                                                                                                                                                                                                                                                                                                                                                                                                                                                                                                                                                                                                                                                                     |\n",
      "+----------+-------------------------------------------------------------+-----+--------------+------------------------------+------------------+------------+-----------+---------------------------------------------+--------------------------------------------------------------------------------------------------------------------------------------------------------------------------------------------------------------------------------------------------------------------------------------------------------------------------------------------------------------------------------------------------------------------------------------------------------------------------------------------------------------------------------------------------------------------------------------------------------------------------------------------------------------------------------------------------------------------------------------------------------------------------------------------------------------------------------------------------------------------------------------------------------------------------------------------------------------------------------------------------------------------------------------------------------------------------------------------------------------------------------------------------------------------------------------------------------------------------------------------------------------------------------------------------------------------------------------------------------------------------------------------------------------------------------------------------------------------------------------------------------------------------------------------------------------------------------+\n",
      "|0152438173|The Legend of Old Befana                                     |5.51 |A8H1FCRQWCZ92 |pomodorina                    |0/0               |5.0         |1169078400 |Italian Charm                                |Great book, love DePaola's stuff. The book reads in just 5 or so minutes. I bought it for my daughter so she understands why we celebrate the Ephipany every year. It is a fun Italian tradition and makes the Christmas season last just a little longer!                                                                                                                                                                                                                                                                                                                                                                                                                                                                                                                                                                                                                                                                                                                                                                                                                                                                                                                                                                                                                                                                                                                                                                                                                                                                                                                      |\n",
      "|1557094101|The Night Before Christmas, The (Wee Books for Wee Folk)     |6.95 |A2KPRPC26RX7AP|opening my eyes               |1/1               |1.0         |1326326400 |rip off                                      |\"I bought this book before Christmas 2011, believing I was buying the best version available. After receiving the book, it is good quality, but in no way \"\"antique reproduction\"\". It has the look and feel of any other kids book you would buy. I had great expectation about better paper stock and binding to make it feel more like a classic book (and reflect the price paid).I paid $120 for it                                                                                                                                                                                                                                                                                                                                                                                                                                                                                                                                                                                                                                                                                                                                                                                                                                                                                                                                                                                                                                                                                                                                                                        |\n",
      "|B000GG4J00|Mr. Timothy : A Novel (P.S.)                                 |6.00 |A32GGXUECOZFRC|\"frfubar8 \"\"joe reader\"\"\"     |1/1               |5.0         |1097798400 |Doing Dickens Proud....                      |\"Hurrah for Mr. Bayard! The cover photo drew me in, the dustjacket synopsis intrigued me....imagine my happy delight when the story turned out to live up to its wrappings and trappings!Mr. Timothy Cratchit is all grown up now and coming to terms with the death of his father and indeed with himself. This tale of mysterious suspense is peppered throughout with excerpts from letters Tim writes to the deceased Bob Cratchit and meetings with/avoidances of his \"\"Uncle\"\" Scrooge.If you are a Christmas Carol enthusiast then by all means pick up this book...but be warned gentle readers...this is a story of darkness and depravity                                                                                                                                                                                                                                                                                                                                                                                                                                                                                                                                                                                                                                                                                                                                                                                                                                                                                                                             |\n",
      "|0821261851|Lost Balls: Great Holes, Tough Shots, and Bad Lies           |19.79|AYSZ1L6588X3Q |Sunny Lady                    |1/1               |5.0         |1262131200 |Perfect gift for a golfer!                   |My Cousin is an avid golfer and I can never decide what to give him for Christmas. While looking for a different item, this popped up as a suggestion. Perfect coffee table book for a golfer. Great price, too, Amazon.                                                                                                                                                                                                                                                                                                                                                                                                                                                                                                                                                                                                                                                                                                                                                                                                                                                                                                                                                                                                                                                                                                                                                                                                                                                                                                                                                        |\n",
      "|1557094101|The Night Before Christmas, The (Wee Books for Wee Folk)     |6.95 |A1W0YA1Y7SEJ98|E.COURTNEY ANDREWS            |0/0               |5.0         |1356652800 |A CLASSIC FOR ALL AGES:                      |I GAVE THIS AS PART OF A GIFT FOR A LADY OF 93 YEARS WHO REMAINS &#34;SANTA'S GIRL&#34; INTO HER95TH YEAR: AT 63, I FIND THIS REMAINS A CHRISTMAS CLASSIC: AND, IF YOU DON'T KNOW THEHISTORICAL BACKGROUND FOR MOORE'S WRITING, INVESTIGATE AND BE INSPIRED!MOST SINCERELY WITH DAILY BLESSINGS: GRANDPA COURTNEY                                                                                                                                                                                                                                                                                                                                                                                                                                                                                                                                                                                                                                                                                                                                                                                                                                                                                                                                                                                                                                                                                                                                                                                                                                                               |\n",
      "|0061149055|Fear of Flying CD                                            |39.95|A1L28XS28LGSPG|\"\"\"citygardener\"\"\"            |6/8               |4.0         |1010448000 |Wow. What a ride!                            |First time I've felt inspired enough to write a review here. I came across Erica Jong's novel, Fear of Flying, a couple of weeks ago in a dusty pile of second hand books at my son's school Christmas Bazaar. Two days ago I picked it up again to keep me company during a nasty cold, and yesterday I closed the last page, wishing there were more - not because I needed &quot;closure&quot; (is it only me, or does that word make other people itch, too?), but because I found far more of myself on those yellowing pages than I ever expected, and I wanted to see how it would all turn out. Though I wasn't blessed with Isadora's wealth, I certainly enjoyed the fantasy of having it, while at the same time experiencing a vicarious roller coaster ride of oh-so-familiar emotions.Agreed, the book is anything but politically correct, but neither was it hostile. Come on, Grown Ups. I think we're old enough to deal with a sterotype, (perhaps) see its humour (remember Cheech and Chong - or have they also been blacklisted?), and on occasion, the grain of truth behind it. Have we become so precious that we can no longer laugh at ourselves, and is it forbidden to chuckle at those around us? Sorry, PC's not for me.In Been There, Done That 2002, Fear of Flying may no longer be shocking, but its reflections remain relevant. A fun way to experience on the page what so many women have experienced in life.                                                                                                                           |\n",
      "|0789465213|Big Book of Airplanes                                        |10.19|A1P3A2M0YSN66N|\"J. Olson \"\"Jake in Adana\"\"\"  |0/0               |5.0         |1218067200 |Wonderful gift                               |This book was a christmas gift for a young boy who loves planes and wants to be a pilot. He's also learning English as a second language. This book was the perfect inspiration for a 12 year old! Very colorful, informative, and a good mix of the old and the new.                                                                                                                                                                                                                                                                                                                                                                                                                                                                                                                                                                                                                                                                                                                                                                                                                                                                                                                                                                                                                                                                                                                                                                                                                                                                                                           |\n",
      "|1557094101|The Night Before Christmas, The (Wee Books for Wee Folk)     |6.95 |AIHBOSO2WNGCP |M&M Mom                       |12/12             |5.0         |1265155200 |IMO one of the BEST Christmas books ever!    |\"I got this for my autistic spectrum son, who is 14 and obsessed with Christmas and \"\"Night Before Christmas\"\" books. He has something of a collection of them. I randomly chose this book as I was searching on the Amazon site                                                                                                                                                                                                                                                                                                                                                                                                                                                                                                                                                                                                                                                                                                                                                                                                                                                                                                                                                                                                                                                                                                                                                                                                                                                                                                                                                |\n",
      "|1557094101|The Night Before Christmas, The (Wee Books for Wee Folk)     |6.95 |A26255YYPOSDJ7|\"B. Peterson \"\"bpeterso13\"\"\"  |4/4               |4.0         |1198713600 |Good value, acceptable quality               |\"We were looking for an over-sized \"\"Night Before Christmas\"\" book to read to our little ones on Christmas eve. This one does the trick and quality is good for the ~$15 price. Calling it an \"\"heirloom edition\"\" might be stretching it a bit though.\"                                                                                                                                                                                                                                                                                                                                                                                                                                                                                                                                                                                                                                                                                                                                                                                                                                                                                                                                                                                                                                                                                                                                                                                                                                                                                                                        |\n",
      "|1557094101|The Night Before Christmas, The (Wee Books for Wee Folk)     |6.95 |A2GK2DYNB4VSFK|D. Marino                     |0/0               |5.0         |1220659200 |The Night Before Christmas                   |\"This is a beauifully illustrated edition of my favorite book. I pruchased it for a Baby Shower gift and was thrilled at the \"\"heirloom quality\"\" of the book. The cover was perfect and the little gold stocking bookmark was a wonderful addition. I recommend it highly.\"                                                                                                                                                                                                                                                                                                                                                                                                                                                                                                                                                                                                                                                                                                                                                                                                                                                                                                                                                                                                                                                                                                                                                                                                                                                                                                    |\n",
      "|1931741425|The Great American Songbook: The Stories Behind the Standards|11.95|A14OJS0VWMOSWO|Midwest Book Review           |1/1               |5.0         |1102550400 |An excellent giftbook for popular music buffs|\"The Great American Songbook is an anthology of entertaining true stories behind a medley of some of the most popular songs Hollywood, Broadway, and other favorite songs. Brief yet enjoyable and fascinating trivial about great singers, musicians, composers, and more fill this amazing, defly researched and entertaining collection, which includes tibits about such hits as \"\"White Christmas\"\"                                                                                                                                                                                                                                                                                                                                                                                                                                                                                                                                                                                                                                                                                                                                                                                                                                                                                                                                                                                                                                                                                                                                                                        |\n",
      "|1557094101|The Night Before Christmas, The (Wee Books for Wee Folk)     |6.95 |A3O8EFCVUS7F3E|C. Weatherholt                |0/0               |5.0         |1330560000 |night before chtistmas                       |great christmas book. just like the one i had as a child. my kids love it. given as shower gifts and new to be moms enjot the book                                                                                                                                                                                                                                                                                                                                                                                                                                                                                                                                                                                                                                                                                                                                                                                                                                                                                                                                                                                                                                                                                                                                                                                                                                                                                                                                                                                                                                              |\n",
      "|B000GG4J00|Mr. Timothy : A Novel (P.S.)                                 |6.00 |A2FGLPI9D3N9S9|DSRbookworm                   |0/0               |1.0         |1357689600 |Ick!                                         |I was expecting the author to continue with some Dickensian darkness and magical whimsey. The darkness was certainly delivered...and with heaping doses of vulgarity to boot. A dry read most certainly NOT reminiscent of the tone of &#34;A Christmas Carol&#34;--as one is led to expect by the book's abstract--I stopped reading it after the fourth chapter and haven't missed it at all!                                                                                                                                                                                                                                                                                                                                                                                                                                                                                                                                                                                                                                                                                                                                                                                                                                                                                                                                                                                                                                                                                                                                                                                 |\n",
      "|1557094101|The Night Before Christmas, The (Wee Books for Wee Folk)     |6.95 |A1UTUDB0CSEPJJ|Jennifer Bridgewater          |0/0               |5.0         |1348185600 |Tradition                                    |We bought this edition of The Night Before Christmas the year after our son was born. He'll be 4 on Christmas Eve. It has become a tradition for my husband to read this to me and our son just before we put him to bed on Christmas Eve. It is a beautiful book with beautiful illustrations. I just absolutely love it :)                                                                                                                                                                                                                                                                                                                                                                                                                                                                                                                                                                                                                                                                                                                                                                                                                                                                                                                                                                                                                                                                                                                                                                                                                                                    |\n",
      "|B000GG4J00|Mr. Timothy : A Novel (P.S.)                                 |6.00 |A2L5XWA1DRCFAH|Akethan                       |1/1               |4.0         |1073779200 |God Bless Us... Everyone.                    |\"Being a big fan of A CHRISTMAS CAROL, I was eager to pick this book up and see where Bayard was going to take Tiny Tim as an emerging adult.I didn't expect what this story had to offer, but as Bayard was loyal to Dickens, he shows us another dark facet of England. The collection and sale (in effect) of very young girls to the upper crust of society. And Mr. Timothy Cratchit as its unlikely hero.The language of the book remained true throughout - and the combination of characters fit all the roles I would have expected in a Dickens tale. And while the story itself sometimes stuttered with strange asides tossed in to create time for other things to happen or to show which character was on which side - it wasn't the story itself I found myself taken by.I particularly enjoyed the italicized letters that Tim wrote to his deceased father. The language and ideas of a life overlooked, of the love one might feel for one's parent not realized until it was too late. Of Tim as an adult trying to realize who he is going to be and not having his father to help him through this hardest of times. And realizing how much irritation and anger and impatience he spent on his father when alive as he is haunted by his father's ghost out of the corner of his eye. All of this as Bayard takes Tim on a journey to seek his own family, his own home.Tim's letters to his father were the icing on the cake that made me truly enjoy this book and this one line in particular cemented Tim's missed feelings - \"\"You had spent months|\n",
      "|1576467449|Great Expectations                                           |14.95|A2F7YJYZIG8YQ7|\"a highschool kid \"\"Nolram\"\"\" |6/21              |2.0         |1137456000 |Great Expectations a Great Dissapointment    |\"Great Expectations was a mediocre book. I was not impressed. I had to read this book for my 9th grade honors English class. It was too long and boring. I see were Dickens was trying to go with the suspense, but it just made the book monotonous and boring. The uncanny coincidences just did not seem real. It's ok to use a coincidence as a tool of suspense, but this was just overkill. Every chapter was boring. I got tired pretty quickly of pip wishing he were with Estella for the whole book. Also, the book seemed to stray away from the main point for chapters at a time. Who cares about Wemmick's stupid plays? This could all be summed up in a couple of page short story. In conclusion, this is another swing and a miss for Dickens. STAY FAR AWAY FROM THIS BOOK! If you want to read a good Dickens story, read \"\"A Christmas Carol\"\" and nothing else written by Charles Dickens.\"                                                                                                                                                                                                                                                                                                                                                                                                                                                                                                                                                                                                                                                               |\n",
      "|1557094101|The Night Before Christmas, The (Wee Books for Wee Folk)     |6.95 |ADPDNOJGO044I |\"Dawn Kurtz \"\"Victorian Gal\"\"\"|0/0               |5.0         |1325635200 |1949 Twas the Night Before Christmas!        |I loved the retro pictures displayed in this version of The Night Before Christmas. I watched my 2 year old granddaughter and her 4 year old brother's eyes light up with delight as I read and they starred at the pictures! Santa and his 8 reindeer are quaint. Santa is just plain adorable. The children so sweet! I highly recommend this version to all Grandma's and Grandpa's!                                                                                                                                                                                                                                                                                                                                                                                                                                                                                                                                                                                                                                                                                                                                                                                                                                                                                                                                                                                                                                                                                                                                                                                         |\n",
      "|1557094101|The Night Before Christmas, The (Wee Books for Wee Folk)     |6.95 |A39DIPYN9MS1SK|db                            |1/1               |5.0         |1293494400 |great poem!                                  |we read this every christmas eve and this year i got to do it on my new kindle! this is just the original poem which is all my family needs.                                                                                                                                                                                                                                                                                                                                                                                                                                                                                                                                                                                                                                                                                                                                                                                                                                                                                                                                                                                                                                                                                                                                                                                                                                                                                                                                                                                                                                    |\n",
      "|1557094101|The Night Before Christmas, The (Wee Books for Wee Folk)     |6.95 |A3QU3O79AGNWCY|\"Daniel Orr \"\"Dano\"\"\"         |1/1               |4.0         |1235001600 |Beautifully Illustrated                      |My wife is an elementary school music teacher and needed to use the pictures for a slide show while the children were playing their music so we bought this book. It is the Night Before Christmas poem with illustrations. The book is illustrated beautifully but the binding is extremely poor. On the other side of the coin it didn't cost much and as usual Amazon got it to us quickly.                                                                                                                                                                                                                                                                                                                                                                                                                                                                                                                                                                                                                                                                                                                                                                                                                                                                                                                                                                                                                                                                                                                                                                                  |\n",
      "|1557094101|The Night Before Christmas, The (Wee Books for Wee Folk)     |6.95 |AFD2098CEH8ST |\"Lima Echo \"\"Joe\"\"\"           |0/0               |3.0         |1357689600 |It was just okay                             |For a Kindle book it was ok and it met the need since we couldn't find our book. However, no electronic copy of the Night Before Christmas will ever compare with a well done book in your hand.                                                                                                                                                                                                                                                                                                                                                                                                                                                                                                                                                                                                                                                                                                                                                                                                                                                                                                                                                                                                                                                                                                                                                                                                                                                                                                                                                                                |\n",
      "+----------+-------------------------------------------------------------+-----+--------------+------------------------------+------------------+------------+-----------+---------------------------------------------+--------------------------------------------------------------------------------------------------------------------------------------------------------------------------------------------------------------------------------------------------------------------------------------------------------------------------------------------------------------------------------------------------------------------------------------------------------------------------------------------------------------------------------------------------------------------------------------------------------------------------------------------------------------------------------------------------------------------------------------------------------------------------------------------------------------------------------------------------------------------------------------------------------------------------------------------------------------------------------------------------------------------------------------------------------------------------------------------------------------------------------------------------------------------------------------------------------------------------------------------------------------------------------------------------------------------------------------------------------------------------------------------------------------------------------------------------------------------------------------------------------------------------------------------------------------------------------+\n",
      "only showing top 20 rows\n",
      "\n"
     ]
    }
   ],
   "source": [
    "# Display the filtered books DataFrame\n",
    "filtered_books.show(truncate=False)"
   ]
  },
  {
   "cell_type": "code",
   "execution_count": 13,
   "id": "a29fede8-a030-4a2f-bc4e-01bc119d62af",
   "metadata": {},
   "outputs": [],
   "source": [
    "import pandas as pd\n",
    "sorted =pd.read_csv('v2.csv')"
   ]
  },
  {
   "cell_type": "code",
   "execution_count": 14,
   "id": "1add798b-88ab-4930-ac9e-548dc151fb37",
   "metadata": {},
   "outputs": [
    {
     "data": {
      "text/html": [
       "<div>\n",
       "<style scoped>\n",
       "    .dataframe tbody tr th:only-of-type {\n",
       "        vertical-align: middle;\n",
       "    }\n",
       "\n",
       "    .dataframe tbody tr th {\n",
       "        vertical-align: top;\n",
       "    }\n",
       "\n",
       "    .dataframe thead th {\n",
       "        text-align: right;\n",
       "    }\n",
       "</style>\n",
       "<table border=\"1\" class=\"dataframe\">\n",
       "  <thead>\n",
       "    <tr style=\"text-align: right;\">\n",
       "      <th></th>\n",
       "      <th>Title</th>\n",
       "      <th>Id</th>\n",
       "      <th>average_review_score</th>\n",
       "      <th>image</th>\n",
       "      <th>authors</th>\n",
       "    </tr>\n",
       "  </thead>\n",
       "  <tbody>\n",
       "    <tr>\n",
       "      <th>0</th>\n",
       "      <td>A Christmas Carol, in Prose: Being a Ghost Sto...</td>\n",
       "      <td>742623157</td>\n",
       "      <td>4.758853</td>\n",
       "      <td>https://m.media-amazon.com/images/I/61WkuG9yCO...</td>\n",
       "      <td>['Charles Dickens']</td>\n",
       "    </tr>\n",
       "    <tr>\n",
       "      <th>1</th>\n",
       "      <td>A Christmas Carol (Classic Fiction)</td>\n",
       "      <td>9626346825</td>\n",
       "      <td>4.758853</td>\n",
       "      <td>https://covers.shakespeareandcompany.com/97801...</td>\n",
       "      <td>['Charles Dickens']</td>\n",
       "    </tr>\n",
       "    <tr>\n",
       "      <th>2</th>\n",
       "      <td>The Night Before Christmas, The (Wee Books for...</td>\n",
       "      <td>1557094101</td>\n",
       "      <td>4.541436</td>\n",
       "      <td>http://books.google.com/books/content?id=9MsbD...</td>\n",
       "      <td>['Clement Clarke Moore']</td>\n",
       "    </tr>\n",
       "    <tr>\n",
       "      <th>3</th>\n",
       "      <td>The Night Before Christmas Pop-up</td>\n",
       "      <td>689838999</td>\n",
       "      <td>4.884615</td>\n",
       "      <td>http://books.google.com/books/content?id=wKLEs...</td>\n",
       "      <td>['Matthew Reinhart']</td>\n",
       "    </tr>\n",
       "    <tr>\n",
       "      <th>4</th>\n",
       "      <td>A First Book of Christmas Songs: 20 Favorite S...</td>\n",
       "      <td>486297187</td>\n",
       "      <td>4.886540</td>\n",
       "      <td>http://books.google.com/books/content?id=g4-zt...</td>\n",
       "      <td>['Bergerac']</td>\n",
       "    </tr>\n",
       "    <tr>\n",
       "      <th>5</th>\n",
       "      <td>Hogfather (Discworld)</td>\n",
       "      <td>753105209</td>\n",
       "      <td>4.516129</td>\n",
       "      <td>http://books.google.com/books/content?id=CeslE...</td>\n",
       "      <td>['Terry Pratchett']</td>\n",
       "    </tr>\n",
       "  </tbody>\n",
       "</table>\n",
       "</div>"
      ],
      "text/plain": [
       "                                               Title          Id  \\\n",
       "0  A Christmas Carol, in Prose: Being a Ghost Sto...   742623157   \n",
       "1                A Christmas Carol (Classic Fiction)  9626346825   \n",
       "2  The Night Before Christmas, The (Wee Books for...  1557094101   \n",
       "3                  The Night Before Christmas Pop-up   689838999   \n",
       "4  A First Book of Christmas Songs: 20 Favorite S...   486297187   \n",
       "5                              Hogfather (Discworld)   753105209   \n",
       "\n",
       "   average_review_score                                              image  \\\n",
       "0              4.758853  https://m.media-amazon.com/images/I/61WkuG9yCO...   \n",
       "1              4.758853  https://covers.shakespeareandcompany.com/97801...   \n",
       "2              4.541436  http://books.google.com/books/content?id=9MsbD...   \n",
       "3              4.884615  http://books.google.com/books/content?id=wKLEs...   \n",
       "4              4.886540  http://books.google.com/books/content?id=g4-zt...   \n",
       "5              4.516129  http://books.google.com/books/content?id=CeslE...   \n",
       "\n",
       "                    authors  \n",
       "0       ['Charles Dickens']  \n",
       "1       ['Charles Dickens']  \n",
       "2  ['Clement Clarke Moore']  \n",
       "3      ['Matthew Reinhart']  \n",
       "4              ['Bergerac']  \n",
       "5       ['Terry Pratchett']  "
      ]
     },
     "execution_count": 14,
     "metadata": {},
     "output_type": "execute_result"
    }
   ],
   "source": [
    "sorted"
   ]
  },
  {
   "cell_type": "code",
   "execution_count": 15,
   "id": "da7b9b91-f3d1-401e-869f-68c37c5af1f5",
   "metadata": {},
   "outputs": [
    {
     "data": {
      "text/plain": [
       "Index(['Title', 'Id', 'average_review_score', 'image', 'authors'], dtype='object')"
      ]
     },
     "execution_count": 15,
     "metadata": {},
     "output_type": "execute_result"
    }
   ],
   "source": [
    "sorted.columns"
   ]
  },
  {
   "cell_type": "code",
   "execution_count": 16,
   "id": "7e040fbe-89d8-43fc-bd35-4c3e14a14be8",
   "metadata": {},
   "outputs": [],
   "source": [
    "import pickle\n",
    "# Save as .pkl file\n",
    "with open(\"PopularChristmasBooks.pkl\", \"wb\") as f:\n",
    "    pickle.dump(sorted, f)\n"
   ]
  },
  {
   "cell_type": "code",
   "execution_count": null,
   "id": "d741a99e-023e-4098-ac20-a81028029aa0",
   "metadata": {},
   "outputs": [],
   "source": [
    "spark.stop()"
   ]
  }
 ],
 "metadata": {
  "kernelspec": {
   "display_name": "Python (PySpark)",
   "language": "python",
   "name": "pyspark_env"
  },
  "language_info": {
   "codemirror_mode": {
    "name": "ipython",
    "version": 3
   },
   "file_extension": ".py",
   "mimetype": "text/x-python",
   "name": "python",
   "nbconvert_exporter": "python",
   "pygments_lexer": "ipython3",
   "version": "3.11.7"
  }
 },
 "nbformat": 4,
 "nbformat_minor": 5
}
